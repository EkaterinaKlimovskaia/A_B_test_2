{
 "cells": [
  {
   "cell_type": "markdown",
   "id": "cc2d0001",
   "metadata": {},
   "source": [
    "## Исследование новой системы поиска анкет в дейтинговом приложении через интерпритацию результатов А/B теста\n",
    "\n",
    "###  Для проверки работы нового алгоритма для поиска наиболее подходящих анкет был проведен АБ-тест, в рамках которого все пользователи приложения были разделены на две группы. Пользователи в группе с номером 0 пользовались приложением со старым алгоритмом. Все пользователи в группе 1 пользовались приложением с новым алгоритмом для поиска анкет.\n",
    "\n",
    "### Оценим, правда ли, что новый алгоритм улучшил качество сервиса и сделаем аналитическое заключение с ответом на вопрос, стоит ли включать новую систему поиска анкет на всех пользователей.\n",
    "\n",
    "### ПЛАН РАБОТЫ:\n",
    "\n",
    "**1. Прочитаем файл и сделаем предобработку данных** \n",
    "\n",
    "**2. Посмотрим на следующие метрики:**  \n",
    "**- Соотношение мэтчей и не мэтчей в группах**  \n",
    "**- Среднее число анкет на каждого пользователя**  \n",
    "**- Среднее число мэтчей на каждого пользователя**  \n",
    "\n",
    "**3. Ответим на вопрос: Был ли эксперимент успешен в целом и стоит ли включать новую систему поиска анкет на всех пользователей**  "
   ]
  },
  {
   "cell_type": "markdown",
   "id": "23ace9ef",
   "metadata": {},
   "source": [
    "**Механика приложения следующая:**  \n",
    "**Пользователи видят в приложении анкеты друг друга и могут ставить друг другу лайки или дизлайки.**  \n",
    "**Если пользователи поставили друг другу лайк – это называется мэтч, и у пользователей появляется возможность познакомиться**  "
   ]
  },
  {
   "cell_type": "markdown",
   "id": "ba5319f1",
   "metadata": {},
   "source": [
    "**В dating_data.csv находится выгрузка логов взаимодействия пользователей друг с другом**   \n",
    "**Для каждой пары пользователей указано, из какой они группы АБ-теста и случился ли у них мэтч.  \n",
    "Группу с номером 0, в которой пользователи, использующие приложение со старым алгоритмом, будем называть контрольная группа.  \n",
    "Группу с номером 1, в которой пользователи, использующие приложение с новым алгоритмом для поиска анкет, будем называть тестовая группа** "
   ]
  },
  {
   "cell_type": "markdown",
   "id": "e9747183",
   "metadata": {},
   "source": [
    "## 1. Прочитаем файл и сделаем предобработку данных"
   ]
  },
  {
   "cell_type": "code",
   "execution_count": 3,
   "id": "e51bc429",
   "metadata": {},
   "outputs": [],
   "source": [
    "import pandas as pd \n",
    "import seaborn as sns \n",
    "import matplotlib.pyplot as plt \n",
    "import scipy.stats as st\n",
    "import pingouin as pg\n",
    "import numpy as np"
   ]
  },
  {
   "cell_type": "code",
   "execution_count": 4,
   "id": "a36de41d",
   "metadata": {},
   "outputs": [
    {
     "data": {
      "text/html": [
       "<div>\n",
       "<style scoped>\n",
       "    .dataframe tbody tr th:only-of-type {\n",
       "        vertical-align: middle;\n",
       "    }\n",
       "\n",
       "    .dataframe tbody tr th {\n",
       "        vertical-align: top;\n",
       "    }\n",
       "\n",
       "    .dataframe thead th {\n",
       "        text-align: right;\n",
       "    }\n",
       "</style>\n",
       "<table border=\"1\" class=\"dataframe\">\n",
       "  <thead>\n",
       "    <tr style=\"text-align: right;\">\n",
       "      <th></th>\n",
       "      <th>user_id_1</th>\n",
       "      <th>user_id_2</th>\n",
       "      <th>group</th>\n",
       "      <th>is_match</th>\n",
       "    </tr>\n",
       "  </thead>\n",
       "  <tbody>\n",
       "    <tr>\n",
       "      <th>0</th>\n",
       "      <td>79</td>\n",
       "      <td>91</td>\n",
       "      <td>1</td>\n",
       "      <td>1</td>\n",
       "    </tr>\n",
       "    <tr>\n",
       "      <th>1</th>\n",
       "      <td>716</td>\n",
       "      <td>353</td>\n",
       "      <td>1</td>\n",
       "      <td>1</td>\n",
       "    </tr>\n",
       "    <tr>\n",
       "      <th>2</th>\n",
       "      <td>423</td>\n",
       "      <td>677</td>\n",
       "      <td>0</td>\n",
       "      <td>0</td>\n",
       "    </tr>\n",
       "    <tr>\n",
       "      <th>3</th>\n",
       "      <td>658</td>\n",
       "      <td>165</td>\n",
       "      <td>1</td>\n",
       "      <td>1</td>\n",
       "    </tr>\n",
       "    <tr>\n",
       "      <th>4</th>\n",
       "      <td>969</td>\n",
       "      <td>155</td>\n",
       "      <td>0</td>\n",
       "      <td>1</td>\n",
       "    </tr>\n",
       "  </tbody>\n",
       "</table>\n",
       "</div>"
      ],
      "text/plain": [
       "   user_id_1  user_id_2  group  is_match\n",
       "0         79         91      1         1\n",
       "1        716        353      1         1\n",
       "2        423        677      0         0\n",
       "3        658        165      1         1\n",
       "4        969        155      0         1"
      ]
     },
     "execution_count": 4,
     "metadata": {},
     "output_type": "execute_result"
    }
   ],
   "source": [
    "# прочитаем наш датасет\n",
    "df = pd.read_csv('dating_data.csv')\n",
    "df.head()"
   ]
  },
  {
   "cell_type": "code",
   "execution_count": 5,
   "id": "19f70cc1",
   "metadata": {},
   "outputs": [
    {
     "data": {
      "text/plain": [
       "group\n",
       "0    4792\n",
       "1    9722\n",
       "dtype: int64"
      ]
     },
     "execution_count": 5,
     "metadata": {},
     "output_type": "execute_result"
    }
   ],
   "source": [
    "# посмотрим размер каждой группы\n",
    "df.groupby('group').size()\n",
    "\n",
    "# в тестовой группе данных в два раза больше чем в контрольной"
   ]
  },
  {
   "cell_type": "code",
   "execution_count": 6,
   "id": "795b0731",
   "metadata": {},
   "outputs": [
    {
     "data": {
      "text/plain": [
       "group\n",
       "0    501\n",
       "1    499\n",
       "Name: user_id_1, dtype: int64"
      ]
     },
     "execution_count": 6,
     "metadata": {},
     "output_type": "execute_result"
    }
   ],
   "source": [
    "# посмотрим количестиво уникальных пользователей в каждой группе\n",
    "df.groupby('group').user_id_1.nunique()"
   ]
  },
  {
   "cell_type": "code",
   "execution_count": 22,
   "id": "6825c0e5",
   "metadata": {},
   "outputs": [
    {
     "data": {
      "text/plain": [
       "set()"
      ]
     },
     "execution_count": 22,
     "metadata": {},
     "output_type": "execute_result"
    }
   ],
   "source": [
    "# проверим нет ли пересечения между группами пользователей\n",
    "# когда пользователь попал и в контрольную группу и в тестовую\n",
    "\n",
    "gr_01 = set(df.query('group == 0').user_id_1)\n",
    "gr_11 = set(df.query('group == 1').user_id_1)\n",
    "\n",
    "gr_01.intersection(gr_11)\n",
    "\n",
    "# на выходе получили set() - пустое множество\n",
    "# эти два множества не пересекаются"
   ]
  },
  {
   "cell_type": "code",
   "execution_count": 23,
   "id": "0fd26836",
   "metadata": {},
   "outputs": [
    {
     "data": {
      "text/plain": [
       "set()"
      ]
     },
     "execution_count": 23,
     "metadata": {},
     "output_type": "execute_result"
    }
   ],
   "source": [
    "gr_02 = set(df.query('group == 0').user_id_2)\n",
    "gr_22 = set(df.query('group == 1').user_id_2)\n",
    "\n",
    "gr_02.intersection(gr_22)\n",
    "\n",
    "# мы видим что пользователи из контрольной группы могут метчится с пользователями\n",
    "# только из контрольной группы\n",
    "# а пользователи из тестовой группы могут мэтчится только с пользователями из \n",
    "# тестовой группы"
   ]
  },
  {
   "cell_type": "markdown",
   "id": "3d634bde",
   "metadata": {},
   "source": [
    "**после предварительной обработки данных мы видим, что уникальных пользователей в обоих группах примерно одинаковое количество, но данных в тестовой группе в два раза больше**  \n",
    "**ВЫВОД:**  \n",
    "**не смотря на то, что количество уникальных пользователей в обоих группах примерно одинаково, количество анкет в приложении с новым алгоритмом для поиска анкет ВЫРОСЛО почти в два раза**"
   ]
  },
  {
   "cell_type": "markdown",
   "id": "6153274c",
   "metadata": {},
   "source": [
    "## 2. Посмотрим на следующие метрики:   \n",
    "**- Соотношение мэтчей и не мэтчей в группах**  \n",
    "**- Среднее число анкет на каждого пользователя**  \n",
    "**- Среднее число мэтчей на каждого пользователя**  "
   ]
  },
  {
   "cell_type": "markdown",
   "id": "9293026e",
   "metadata": {},
   "source": [
    "### Сравним соотношение мэтчей и не мэтчей в группах"
   ]
  },
  {
   "cell_type": "code",
   "execution_count": 9,
   "id": "e3795b34",
   "metadata": {},
   "outputs": [
    {
     "data": {
      "text/html": [
       "<div>\n",
       "<style scoped>\n",
       "    .dataframe tbody tr th:only-of-type {\n",
       "        vertical-align: middle;\n",
       "    }\n",
       "\n",
       "    .dataframe tbody tr th {\n",
       "        vertical-align: top;\n",
       "    }\n",
       "\n",
       "    .dataframe thead th {\n",
       "        text-align: right;\n",
       "    }\n",
       "</style>\n",
       "<table border=\"1\" class=\"dataframe\">\n",
       "  <thead>\n",
       "    <tr style=\"text-align: right;\">\n",
       "      <th>is_match</th>\n",
       "      <th>0</th>\n",
       "      <th>1</th>\n",
       "    </tr>\n",
       "    <tr>\n",
       "      <th>group</th>\n",
       "      <th></th>\n",
       "      <th></th>\n",
       "    </tr>\n",
       "  </thead>\n",
       "  <tbody>\n",
       "    <tr>\n",
       "      <th>0</th>\n",
       "      <td>3858</td>\n",
       "      <td>934</td>\n",
       "    </tr>\n",
       "    <tr>\n",
       "      <th>1</th>\n",
       "      <td>5813</td>\n",
       "      <td>3909</td>\n",
       "    </tr>\n",
       "  </tbody>\n",
       "</table>\n",
       "</div>"
      ],
      "text/plain": [
       "is_match     0     1\n",
       "group               \n",
       "0         3858   934\n",
       "1         5813  3909"
      ]
     },
     "execution_count": 9,
     "metadata": {},
     "output_type": "execute_result"
    }
   ],
   "source": [
    "# посмотрим на кросстабуляцию\n",
    "# сколько раз встречается каждое сочетание:\n",
    "# количество мэтчей и не мэтчей для группы 0 (контрольная группа)\n",
    "# и количество мэтчей и не мэтчей для группы 1 (тестовая группа)\n",
    "\n",
    "pd.crosstab(df.group, df.is_match)\n",
    "\n",
    "\n",
    "# видно, что соотношение мэтчей и не мэтчей изменилось после использования нового алгоритма\n",
    "\n"
   ]
  },
  {
   "cell_type": "code",
   "execution_count": 10,
   "id": "bd22c87e",
   "metadata": {},
   "outputs": [
    {
     "data": {
      "text/html": [
       "<div>\n",
       "<style scoped>\n",
       "    .dataframe tbody tr th:only-of-type {\n",
       "        vertical-align: middle;\n",
       "    }\n",
       "\n",
       "    .dataframe tbody tr th {\n",
       "        vertical-align: top;\n",
       "    }\n",
       "\n",
       "    .dataframe thead th {\n",
       "        text-align: right;\n",
       "    }\n",
       "</style>\n",
       "<table border=\"1\" class=\"dataframe\">\n",
       "  <thead>\n",
       "    <tr style=\"text-align: right;\">\n",
       "      <th></th>\n",
       "      <th>test</th>\n",
       "      <th>lambda</th>\n",
       "      <th>chi2</th>\n",
       "      <th>dof</th>\n",
       "      <th>pval</th>\n",
       "      <th>cramer</th>\n",
       "      <th>power</th>\n",
       "    </tr>\n",
       "  </thead>\n",
       "  <tbody>\n",
       "    <tr>\n",
       "      <th>0</th>\n",
       "      <td>pearson</td>\n",
       "      <td>1.000000</td>\n",
       "      <td>618.688914</td>\n",
       "      <td>1.0</td>\n",
       "      <td>1.441830e-136</td>\n",
       "      <td>0.206463</td>\n",
       "      <td>1.0</td>\n",
       "    </tr>\n",
       "    <tr>\n",
       "      <th>1</th>\n",
       "      <td>cressie-read</td>\n",
       "      <td>0.666667</td>\n",
       "      <td>628.560791</td>\n",
       "      <td>1.0</td>\n",
       "      <td>1.027630e-138</td>\n",
       "      <td>0.208104</td>\n",
       "      <td>1.0</td>\n",
       "    </tr>\n",
       "    <tr>\n",
       "      <th>2</th>\n",
       "      <td>log-likelihood</td>\n",
       "      <td>0.000000</td>\n",
       "      <td>652.966812</td>\n",
       "      <td>1.0</td>\n",
       "      <td>5.056969e-144</td>\n",
       "      <td>0.212106</td>\n",
       "      <td>1.0</td>\n",
       "    </tr>\n",
       "    <tr>\n",
       "      <th>3</th>\n",
       "      <td>freeman-tukey</td>\n",
       "      <td>-0.500000</td>\n",
       "      <td>675.931262</td>\n",
       "      <td>1.0</td>\n",
       "      <td>5.125545e-149</td>\n",
       "      <td>0.215803</td>\n",
       "      <td>1.0</td>\n",
       "    </tr>\n",
       "    <tr>\n",
       "      <th>4</th>\n",
       "      <td>mod-log-likelihood</td>\n",
       "      <td>-1.000000</td>\n",
       "      <td>703.556093</td>\n",
       "      <td>1.0</td>\n",
       "      <td>5.039774e-155</td>\n",
       "      <td>0.220169</td>\n",
       "      <td>1.0</td>\n",
       "    </tr>\n",
       "    <tr>\n",
       "      <th>5</th>\n",
       "      <td>neyman</td>\n",
       "      <td>-2.000000</td>\n",
       "      <td>775.869247</td>\n",
       "      <td>1.0</td>\n",
       "      <td>9.519662e-171</td>\n",
       "      <td>0.231207</td>\n",
       "      <td>1.0</td>\n",
       "    </tr>\n",
       "  </tbody>\n",
       "</table>\n",
       "</div>"
      ],
      "text/plain": [
       "                 test    lambda        chi2  dof           pval    cramer  \\\n",
       "0             pearson  1.000000  618.688914  1.0  1.441830e-136  0.206463   \n",
       "1        cressie-read  0.666667  628.560791  1.0  1.027630e-138  0.208104   \n",
       "2      log-likelihood  0.000000  652.966812  1.0  5.056969e-144  0.212106   \n",
       "3       freeman-tukey -0.500000  675.931262  1.0  5.125545e-149  0.215803   \n",
       "4  mod-log-likelihood -1.000000  703.556093  1.0  5.039774e-155  0.220169   \n",
       "5              neyman -2.000000  775.869247  1.0  9.519662e-171  0.231207   \n",
       "\n",
       "   power  \n",
       "0    1.0  \n",
       "1    1.0  \n",
       "2    1.0  \n",
       "3    1.0  \n",
       "4    1.0  \n",
       "5    1.0  "
      ]
     },
     "execution_count": 10,
     "metadata": {},
     "output_type": "execute_result"
    }
   ],
   "source": [
    "# проверим статистическую значимость изменений через Хи квадрат\n",
    "\n",
    "exp, obs, stats = pg.chi2_independence(data = df,\n",
    "                                     x = 'group',\n",
    "                                     y = 'is_match')\n",
    "\n",
    "stats"
   ]
  },
  {
   "cell_type": "markdown",
   "id": "21de9e08",
   "metadata": {},
   "source": [
    "**для интерпритации результата нас интересует pval и cramer  \n",
    "test - это разновидность теста значимости Хи квадрат  \n",
    "при всех тестах значимости Хи квадрат, pval < 0.05,  \n",
    "что говорит о том, что пропорция мэтч и не мэтч изменилась СТАТИСТИЧЕСКИ  ЗНАЧИМО  \n",
    "в нашем случае она ВЫРОСЛА В ТЕСТОВОЙ ГРУППЕ  \n",
    "cramer - коэфициент корреляции - показывает на сколько сильно проявилось данное различие  \n",
    "в нашем случае 0.20 это средний величины эффект (может меняться от 0 до 1)**"
   ]
  },
  {
   "cell_type": "markdown",
   "id": "23cebf7a",
   "metadata": {},
   "source": [
    "###  Сравним среднее число анкет на каждого пользователя"
   ]
  },
  {
   "cell_type": "code",
   "execution_count": 15,
   "id": "dc16445c",
   "metadata": {},
   "outputs": [
    {
     "data": {
      "text/html": [
       "<div>\n",
       "<style scoped>\n",
       "    .dataframe tbody tr th:only-of-type {\n",
       "        vertical-align: middle;\n",
       "    }\n",
       "\n",
       "    .dataframe tbody tr th {\n",
       "        vertical-align: top;\n",
       "    }\n",
       "\n",
       "    .dataframe thead th {\n",
       "        text-align: right;\n",
       "    }\n",
       "</style>\n",
       "<table border=\"1\" class=\"dataframe\">\n",
       "  <thead>\n",
       "    <tr style=\"text-align: right;\">\n",
       "      <th></th>\n",
       "      <th>group</th>\n",
       "      <th>user_id_1</th>\n",
       "      <th>size</th>\n",
       "    </tr>\n",
       "  </thead>\n",
       "  <tbody>\n",
       "    <tr>\n",
       "      <th>0</th>\n",
       "      <td>0</td>\n",
       "      <td>4</td>\n",
       "      <td>9</td>\n",
       "    </tr>\n",
       "    <tr>\n",
       "      <th>1</th>\n",
       "      <td>0</td>\n",
       "      <td>10</td>\n",
       "      <td>6</td>\n",
       "    </tr>\n",
       "    <tr>\n",
       "      <th>2</th>\n",
       "      <td>0</td>\n",
       "      <td>12</td>\n",
       "      <td>12</td>\n",
       "    </tr>\n",
       "    <tr>\n",
       "      <th>3</th>\n",
       "      <td>0</td>\n",
       "      <td>14</td>\n",
       "      <td>8</td>\n",
       "    </tr>\n",
       "    <tr>\n",
       "      <th>4</th>\n",
       "      <td>0</td>\n",
       "      <td>15</td>\n",
       "      <td>20</td>\n",
       "    </tr>\n",
       "    <tr>\n",
       "      <th>...</th>\n",
       "      <td>...</td>\n",
       "      <td>...</td>\n",
       "      <td>...</td>\n",
       "    </tr>\n",
       "    <tr>\n",
       "      <th>995</th>\n",
       "      <td>1</td>\n",
       "      <td>987</td>\n",
       "      <td>23</td>\n",
       "    </tr>\n",
       "    <tr>\n",
       "      <th>996</th>\n",
       "      <td>1</td>\n",
       "      <td>992</td>\n",
       "      <td>21</td>\n",
       "    </tr>\n",
       "    <tr>\n",
       "      <th>997</th>\n",
       "      <td>1</td>\n",
       "      <td>993</td>\n",
       "      <td>18</td>\n",
       "    </tr>\n",
       "    <tr>\n",
       "      <th>998</th>\n",
       "      <td>1</td>\n",
       "      <td>998</td>\n",
       "      <td>18</td>\n",
       "    </tr>\n",
       "    <tr>\n",
       "      <th>999</th>\n",
       "      <td>1</td>\n",
       "      <td>1000</td>\n",
       "      <td>23</td>\n",
       "    </tr>\n",
       "  </tbody>\n",
       "</table>\n",
       "<p>1000 rows × 3 columns</p>\n",
       "</div>"
      ],
      "text/plain": [
       "     group  user_id_1  size\n",
       "0        0          4     9\n",
       "1        0         10     6\n",
       "2        0         12    12\n",
       "3        0         14     8\n",
       "4        0         15    20\n",
       "..     ...        ...   ...\n",
       "995      1        987    23\n",
       "996      1        992    21\n",
       "997      1        993    18\n",
       "998      1        998    18\n",
       "999      1       1000    23\n",
       "\n",
       "[1000 rows x 3 columns]"
      ]
     },
     "execution_count": 15,
     "metadata": {},
     "output_type": "execute_result"
    }
   ],
   "source": [
    "# сгруппируем наши данные по группам и по пользователям и\n",
    "# посчитаем сколько анкет подобрал каждый пользователь \n",
    "\n",
    "df_1 = df.groupby(['group', 'user_id_1'], as_index=False).size()\n",
    "\n",
    "df_1 "
   ]
  },
  {
   "cell_type": "code",
   "execution_count": 16,
   "id": "90445f97",
   "metadata": {},
   "outputs": [
    {
     "data": {
      "text/plain": [
       "<Axes: xlabel='size', ylabel='Count'>"
      ]
     },
     "execution_count": 16,
     "metadata": {},
     "output_type": "execute_result"
    },
    {
     "data": {
      "image/png": "[encoded data removed]",
      "text/plain": [
       "<Figure size 640x480 with 1 Axes>"
      ]
     },
     "metadata": {},
     "output_type": "display_data"
    }
   ],
   "source": [
    "# теперь посмотрим на графике\n",
    "\n",
    "sns.histplot(data = df_1, x = 'size', hue='group' )\n",
    "# на графике видно, что количество анкет в 1 группе больше "
   ]
  },
  {
   "cell_type": "code",
   "execution_count": 13,
   "id": "09203f14",
   "metadata": {},
   "outputs": [
    {
     "data": {
      "text/html": [
       "<div>\n",
       "<style scoped>\n",
       "    .dataframe tbody tr th:only-of-type {\n",
       "        vertical-align: middle;\n",
       "    }\n",
       "\n",
       "    .dataframe tbody tr th {\n",
       "        vertical-align: top;\n",
       "    }\n",
       "\n",
       "    .dataframe thead th {\n",
       "        text-align: right;\n",
       "    }\n",
       "</style>\n",
       "<table border=\"1\" class=\"dataframe\">\n",
       "  <thead>\n",
       "    <tr style=\"text-align: right;\">\n",
       "      <th></th>\n",
       "      <th>T</th>\n",
       "      <th>dof</th>\n",
       "      <th>alternative</th>\n",
       "      <th>p-val</th>\n",
       "      <th>CI95%</th>\n",
       "      <th>cohen-d</th>\n",
       "      <th>BF10</th>\n",
       "      <th>power</th>\n",
       "    </tr>\n",
       "  </thead>\n",
       "  <tbody>\n",
       "    <tr>\n",
       "      <th>T-test</th>\n",
       "      <td>-51.85607</td>\n",
       "      <td>997.694538</td>\n",
       "      <td>two-sided</td>\n",
       "      <td>2.005369e-285</td>\n",
       "      <td>[-10.29, -9.54]</td>\n",
       "      <td>3.279531</td>\n",
       "      <td>9.827e+280</td>\n",
       "      <td>1.0</td>\n",
       "    </tr>\n",
       "  </tbody>\n",
       "</table>\n",
       "</div>"
      ],
      "text/plain": [
       "               T         dof alternative          p-val            CI95%  \\\n",
       "T-test -51.85607  997.694538   two-sided  2.005369e-285  [-10.29, -9.54]   \n",
       "\n",
       "         cohen-d        BF10  power  \n",
       "T-test  3.279531  9.827e+280    1.0  "
      ]
     },
     "execution_count": 13,
     "metadata": {},
     "output_type": "execute_result"
    }
   ],
   "source": [
    "# проверим наши предположения статистически\n",
    "# сравним среднее количество анкет на пользователя в двух группах\n",
    "# так как сравниваем средние, и распредление на графике у нас выглядит как нормальное\n",
    "# используем T-test\n",
    "\n",
    "pg.ttest(x = df_1.query('group==0')['size'], y = df_1.query('group==1')['size'])\n",
    "\n",
    "# p-val очень маленький, значит различия в средних у нас статистически значимо\n",
    "# BF10 показывает насколько сильно вероятно, что альтернативная гипотеза верная\n",
    "# cohen-d - это стандартизованное различие средних в наших группах\n",
    "# у нас получилось 3.279531 стандартных отклонения, это ощутимое различие\n",
    "# CI95% так же нам показывает доверительный интервал, относительно первой группы, \n",
    "# которую мы указываем, в нашем случае, это контрольная группа\n",
    "# в нашем случае в контрольной группе было в среднем на 10 анкет меньше чем в эксперимент."
   ]
  },
  {
   "cell_type": "markdown",
   "id": "b7e42868",
   "metadata": {},
   "source": [
    "**p-val очень маленький, значит различия в средних у нас CТАТИСТИЧЕСКИ ЗНАЧИМО  \n",
    "BF10 показывает насколько сильно вероятно, что альтернативная гипотеза верная  \n",
    "cohen-d - это стандартизованное различие средних в наших группах  \n",
    "у нас получилось 3.279531 стандартных отклонения, это ощутимое различие  \n",
    "CI95% так же нам показывает доверительный интервал, относительно первой группы,  \n",
    "которую мы указываем, в нашем случае, это контрольная группа  \n",
    "в нашем случае В КОНТРОЛЬНОЙ ГРУППЕ было в среднем на 10 АНКЕТ МЕНЬШЕ чем в тестовой**"
   ]
  },
  {
   "cell_type": "markdown",
   "id": "cdb20e61",
   "metadata": {},
   "source": [
    "### Сравним среднее число мэтчей на каждого пользователя"
   ]
  },
  {
   "cell_type": "code",
   "execution_count": 17,
   "id": "984e8c0f",
   "metadata": {},
   "outputs": [
    {
     "data": {
      "text/html": [
       "<div>\n",
       "<style scoped>\n",
       "    .dataframe tbody tr th:only-of-type {\n",
       "        vertical-align: middle;\n",
       "    }\n",
       "\n",
       "    .dataframe tbody tr th {\n",
       "        vertical-align: top;\n",
       "    }\n",
       "\n",
       "    .dataframe thead th {\n",
       "        text-align: right;\n",
       "    }\n",
       "</style>\n",
       "<table border=\"1\" class=\"dataframe\">\n",
       "  <thead>\n",
       "    <tr style=\"text-align: right;\">\n",
       "      <th></th>\n",
       "      <th>group</th>\n",
       "      <th>user_id_1</th>\n",
       "      <th>size</th>\n",
       "    </tr>\n",
       "  </thead>\n",
       "  <tbody>\n",
       "    <tr>\n",
       "      <th>0</th>\n",
       "      <td>0</td>\n",
       "      <td>4</td>\n",
       "      <td>2</td>\n",
       "    </tr>\n",
       "    <tr>\n",
       "      <th>1</th>\n",
       "      <td>0</td>\n",
       "      <td>10</td>\n",
       "      <td>3</td>\n",
       "    </tr>\n",
       "    <tr>\n",
       "      <th>2</th>\n",
       "      <td>0</td>\n",
       "      <td>12</td>\n",
       "      <td>1</td>\n",
       "    </tr>\n",
       "    <tr>\n",
       "      <th>3</th>\n",
       "      <td>0</td>\n",
       "      <td>15</td>\n",
       "      <td>3</td>\n",
       "    </tr>\n",
       "    <tr>\n",
       "      <th>4</th>\n",
       "      <td>0</td>\n",
       "      <td>17</td>\n",
       "      <td>1</td>\n",
       "    </tr>\n",
       "    <tr>\n",
       "      <th>...</th>\n",
       "      <td>...</td>\n",
       "      <td>...</td>\n",
       "      <td>...</td>\n",
       "    </tr>\n",
       "    <tr>\n",
       "      <th>915</th>\n",
       "      <td>1</td>\n",
       "      <td>987</td>\n",
       "      <td>8</td>\n",
       "    </tr>\n",
       "    <tr>\n",
       "      <th>916</th>\n",
       "      <td>1</td>\n",
       "      <td>992</td>\n",
       "      <td>8</td>\n",
       "    </tr>\n",
       "    <tr>\n",
       "      <th>917</th>\n",
       "      <td>1</td>\n",
       "      <td>993</td>\n",
       "      <td>6</td>\n",
       "    </tr>\n",
       "    <tr>\n",
       "      <th>918</th>\n",
       "      <td>1</td>\n",
       "      <td>998</td>\n",
       "      <td>10</td>\n",
       "    </tr>\n",
       "    <tr>\n",
       "      <th>919</th>\n",
       "      <td>1</td>\n",
       "      <td>1000</td>\n",
       "      <td>12</td>\n",
       "    </tr>\n",
       "  </tbody>\n",
       "</table>\n",
       "<p>920 rows × 3 columns</p>\n",
       "</div>"
      ],
      "text/plain": [
       "     group  user_id_1  size\n",
       "0        0          4     2\n",
       "1        0         10     3\n",
       "2        0         12     1\n",
       "3        0         15     3\n",
       "4        0         17     1\n",
       "..     ...        ...   ...\n",
       "915      1        987     8\n",
       "916      1        992     8\n",
       "917      1        993     6\n",
       "918      1        998    10\n",
       "919      1       1000    12\n",
       "\n",
       "[920 rows x 3 columns]"
      ]
     },
     "execution_count": 17,
     "metadata": {},
     "output_type": "execute_result"
    }
   ],
   "source": [
    "# выберем только тех пользователей, у кого случился с мэтч\n",
    "# после этого сгруппируем их по группам и user_id\n",
    "# и посчитаем количество мэтчей по кадому пользователю,\n",
    "# через подсчет количество получившихся строк\n",
    "\n",
    "df_3 = df.query('is_match == 1').groupby(['group', 'user_id_1'], as_index=False).size()\n",
    "df_3"
   ]
  },
  {
   "cell_type": "code",
   "execution_count": 19,
   "id": "9fa8132f",
   "metadata": {},
   "outputs": [
    {
     "data": {
      "text/plain": [
       "<Axes: xlabel='size', ylabel='Count'>"
      ]
     },
     "execution_count": 19,
     "metadata": {},
     "output_type": "execute_result"
    },
    {
     "data": {
      "image/png": "[encoded data removed]",
      "text/plain": [
       "<Figure size 640x480 with 1 Axes>"
      ]
     },
     "metadata": {},
     "output_type": "display_data"
    }
   ],
   "source": [
    "# теперь посмотрим на графике\n",
    "\n",
    "sns.histplot(data = df_3, x = 'size', hue='group' )\n",
    "\n",
    "# на графике мы видим, что количество мэтчей в тестовой группе больше чем в контрольной\n",
    "# так же мы видим, что изменилось среднее\n",
    "# и изменилось само распределение, в контрольной группе явная ассиметрия"
   ]
  },
  {
   "cell_type": "code",
   "execution_count": 24,
   "id": "6a896109",
   "metadata": {},
   "outputs": [
    {
     "data": {
      "text/html": [
       "<div>\n",
       "<style scoped>\n",
       "    .dataframe tbody tr th:only-of-type {\n",
       "        vertical-align: middle;\n",
       "    }\n",
       "\n",
       "    .dataframe tbody tr th {\n",
       "        vertical-align: top;\n",
       "    }\n",
       "\n",
       "    .dataframe thead th {\n",
       "        text-align: right;\n",
       "    }\n",
       "</style>\n",
       "<table border=\"1\" class=\"dataframe\">\n",
       "  <thead>\n",
       "    <tr style=\"text-align: right;\">\n",
       "      <th></th>\n",
       "      <th>T</th>\n",
       "      <th>dof</th>\n",
       "      <th>alternative</th>\n",
       "      <th>p-val</th>\n",
       "      <th>CI95%</th>\n",
       "      <th>cohen-d</th>\n",
       "      <th>BF10</th>\n",
       "      <th>power</th>\n",
       "    </tr>\n",
       "  </thead>\n",
       "  <tbody>\n",
       "    <tr>\n",
       "      <th>T-test</th>\n",
       "      <td>-45.232978</td>\n",
       "      <td>744.211281</td>\n",
       "      <td>two-sided</td>\n",
       "      <td>9.229585e-216</td>\n",
       "      <td>[-5.88, -5.39]</td>\n",
       "      <td>2.843535</td>\n",
       "      <td>3.166e+231</td>\n",
       "      <td>1.0</td>\n",
       "    </tr>\n",
       "  </tbody>\n",
       "</table>\n",
       "</div>"
      ],
      "text/plain": [
       "                T         dof alternative          p-val           CI95%  \\\n",
       "T-test -45.232978  744.211281   two-sided  9.229585e-216  [-5.88, -5.39]   \n",
       "\n",
       "         cohen-d        BF10  power  \n",
       "T-test  2.843535  3.166e+231    1.0  "
      ]
     },
     "execution_count": 24,
     "metadata": {},
     "output_type": "execute_result"
    }
   ],
   "source": [
    "# сделаем сравнение средних через T-test\n",
    "\n",
    "pg.ttest(x = df_3.query('group==0')['size'], y = df_3.query('group==1')['size'])"
   ]
  },
  {
   "cell_type": "markdown",
   "id": "43d8258a",
   "metadata": {},
   "source": [
    "**p-val очень маленький, значит различия в средних у нас CТАТИСТИЧЕСКИ ЗНАЧИМО  \n",
    "BF10 показывает насколько сильно вероятно, что альтернативная гипотеза верная  \n",
    "cohen-d - это стандартизованное различие средних в наших группах  \n",
    "у нас получилось 2.843535 стандартных отклонения, это ощутимое различие  \n",
    "CI95% так же нам показывает доверительный интервал, относительно первой группы,    \n",
    "которую мы указываем, в нашем случае, это контрольная группа  \n",
    "в нашем случае В КОНТРОЛЬНОЙ ГРУППЕ было в среднем на 5 МЭТЧЕЙ НА ЧЕЛОВЕКА МЕНЬШЕ,   \n",
    "чем в тестовой**"
   ]
  },
  {
   "cell_type": "markdown",
   "id": "2eaf60c1",
   "metadata": {},
   "source": [
    "## 3. Ответим на вопрос: Был ли эксперимент успешен в целом и стоит ли включать новую систему поиска анкет на всех пользователей"
   ]
  },
  {
   "cell_type": "markdown",
   "id": "d656cb81",
   "metadata": {},
   "source": [
    "### Анализируя результаты нашего А/В теста мы видим:\n",
    "\n",
    "**Пропорция мэтч и не мэтч изменилась, она ВЫРОСЛА В ТЕСТОВОЙ ГРУППЕ и мы получили статистически значимые различия в этой метрике,  \n",
    "делаю вывод: НОВЫЙ АЛГОРИТМ СТАЛ ЛУЧШЕ ПОДБИРАТЬ АНКЕТЫ ДЛЯ ПОЛЬЗОВАТЕЛЕЙ**\n",
    "\n",
    "**Среднее число анкет на каждого пользователя так же изменилось, В ТЕСТОВОЙ ГРУППЕ в среднем на 10 АНКЕТ БОЛЬШЕ, чем в контрольной, изменения статистически значимы,\n",
    "делаю вывод: НОВЫЙ АЛГОРИТМ СТАЛ БОЛЬШЕ ВЫДАВАТЬ АНКЕТ НА КАЖДОГО ПОЛЬЗОВАТЕЛЯ**\n",
    "\n",
    "**Изменилось и Среднее число мэтчей на каждого пользователя, В ТЕСТОВОЙ ГРУППЕ в среднем на 5 МЭТЧЕЙ БОЛЬШЕ, чем в контрольной, изменения статистически значимы, \n",
    "что подтверждает наш вывод: НОВЫЙ АЛГОРИТМ ЛУЧШЕ ПОДБИРАЕТ АНКЕТЫ ДЛЯ ПОЛЬЗОВАТЕЛЕЙ**"
   ]
  },
  {
   "cell_type": "markdown",
   "id": "0575f4ce",
   "metadata": {},
   "source": [
    "## МОЙ ОТВЕТ: БЫЛ ЛИ ЭКСПЕРИМЕНТ УСПЕШЕН В ЦЕЛОМ\n",
    "\n",
    "### Считаю эксперимент успешным, и вот почему:\n",
    "**количество уникальных пользователей в обоих группах одинаковое, a колитчество анкет в приложении с новым алгоритмом для поиска анкет ВЫРОСЛО. Новый алгоритм улучшил качество нашего сервиса, пользователи видят в приложении наиболее подходящие им анкеты, ставят друг другу больше лайков, получая мэтч, тем самым у них появляется больше возможности познакомиться, в чем и состоит цель нашего приложения для онлайн-знакомств**\n",
    "\n",
    "### Рекомендую применить данный эксперимент на всех пользователей приложения."
   ]
  },
  {
   "cell_type": "code",
   "execution_count": null,
   "id": "06fa0f5b",
   "metadata": {},
   "outputs": [],
   "source": []
  }
 ],
 "metadata": {
  "kernelspec": {
   "display_name": "Python 3 (ipykernel)",
   "language": "python",
   "name": "python3"
  },
  "language_info": {
   "codemirror_mode": {
    "name": "ipython",
    "version": 3
   },
   "file_extension": ".py",
   "mimetype": "text/x-python",
   "name": "python",
   "nbconvert_exporter": "python",
   "pygments_lexer": "ipython3",
   "version": "3.11.5"
  }
 },
 "nbformat": 4,
 "nbformat_minor": 5
}
